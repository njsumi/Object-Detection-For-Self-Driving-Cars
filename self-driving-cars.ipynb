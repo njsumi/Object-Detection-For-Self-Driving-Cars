{
 "cells": [
  {
   "cell_type": "code",
   "execution_count": null,
   "metadata": {
    "id": "uhNVum16scIW"
   },
   "outputs": [],
   "source": [
    "from sklearn.neural_network import MLPClassifier\n",
    "from sklearn.neighbors import KNeighborsClassifier\n",
    "from sklearn import model_selection\n",
    "import numpy as np\n",
    "from sklearn.metrics import accuracy_score\n",
    "from collections import Counter\n",
    "import tensorflow.keras as keras\n",
    "from keras.models import Sequential\n",
    "from keras.layers import Dense, Conv2D\n",
    "from keras.layers import Activation, MaxPooling2D, Dropout, Flatten, Reshape\n",
    "from keras.wrappers.scikit_learn import KerasClassifier\n",
    "from sklearn.model_selection import StratifiedKFold\n",
    "from sklearn.model_selection import cross_val_score\n",
    "import pandas as pd\n",
    "import matplotlib.pyplot as plt\n",
    "import seaborn as sns\n",
    "\n",
    "import warnings\n",
    "warnings.filterwarnings(\"ignore\", category=UserWarning)\n",
    "\n",
    "def load_data():\n",
    "  import gdown\n",
    "  !wget -O cifar_data https://storage.googleapis.com/inspirit-ai-data-bucket-1/Data/AI%20Scholars/Sessions%201%20-%205/Session%204%20_%205%20-%20Neural%20Networks%20_%20CNN/dogs_v_roads\n",
    "\n",
    "  import pickle\n",
    "  data_dict = pickle.load(open( \"cifar_data\", \"rb\" ));\n",
    "  \n",
    "  data   = data_dict['data']\n",
    "  labels = data_dict['labels']\n",
    "  \n",
    "  return data, labels\n",
    "\n",
    "def plot_one_image(data, labels, img_idx):\n",
    "  from google.colab.patches import cv2_imshow\n",
    "  import cv2\n",
    "  import matplotlib.pyplot as plt\n",
    "  my_img   = data[img_idx, :].squeeze().reshape([32,32,3]).copy()\n",
    "  my_label = labels[img_idx]\n",
    "  print('label: %s'%my_label)\n",
    "  fig, ax = plt.subplots(1,1)\n",
    "\n",
    "  img = ax.imshow(my_img, extent=[-1,1,-1,1])\n",
    "\n",
    "  x_label_list = [0, 8, 16, 24, 32]\n",
    "  y_label_list = [0, 8, 16, 24, 32]\n",
    "\n",
    "  ax.set_xticks([-1, -0.5, 0, 0.5, 1])\n",
    "  ax.set_yticks([-1, -0.5, 0, 0.5, 1])\n",
    "\n",
    "  ax.set_xticklabels(x_label_list)\n",
    "  ax.set_yticklabels(y_label_list)\n",
    "\n",
    "  fig.show(img)\n",
    "\n",
    "def categorical_to_numpy(labels_in):\n",
    "  return np.array(list(map(lambda x: np.array([1, 0]) if x == \"dog\" else np.array([0, 1]), labels_in)), dtype=\"float32\")\n",
    "  \n",
    "def CNNClassifier(num_epochs=30):\n",
    "  def create_model():\n",
    "    model = Sequential()\n",
    "    model.add(Reshape((32, 32, 3)))\n",
    "    model.add(Conv2D(32, (3, 3), padding='same'))\n",
    "    model.add(Activation('relu'))\n",
    "    model.add(Conv2D(32, (3, 3)))\n",
    "    model.add(Activation('relu'))\n",
    "    model.add(MaxPooling2D(pool_size=(2, 2)))\n",
    "    model.add(Dropout(0.25))\n",
    "\n",
    "    model.add(Conv2D(64, (3, 3), padding='same'))\n",
    "    model.add(Activation('relu'))\n",
    "    model.add(Conv2D(64, (3, 3)))\n",
    "    model.add(Activation('relu'))\n",
    "    model.add(MaxPooling2D(pool_size=(2, 2)))\n",
    "    model.add(Dropout(0.25))\n",
    "\n",
    "    model.add(Flatten())\n",
    "    model.add(Dense(512))\n",
    "    model.add(Activation('relu'))\n",
    "    model.add(Dropout(0.5))\n",
    "    model.add(Dense(2))\n",
    "    model.add(Activation('softmax'))\n",
    "\n",
    "    opt = keras.optimizers.RMSprop(learning_rate=0.0001, decay=1e-6)\n",
    "\n",
    "    model.compile(loss='categorical_crossentropy',\n",
    "                  optimizer=opt,\n",
    "                  metrics=['accuracy'])\n",
    "    return model\n",
    "  return KerasClassifier(build_fn=create_model, epochs=num_epochs, batch_size=10, verbose=2)\n",
    "\n",
    "\n",
    "def plot_acc(history, ax = None, xlabel = 'Epoch #'):\n",
    "    history = history.history\n",
    "    history.update({'epoch':list(range(len(history['val_accuracy'])))})\n",
    "    history = pd.DataFrame.from_dict(history)\n",
    "\n",
    "    best_epoch = history.sort_values(by = 'val_accuracy', ascending = False).iloc[0]['epoch']\n",
    "\n",
    "    if not ax:\n",
    "      f, ax = plt.subplots(1,1)\n",
    "    sns.lineplot(x = 'epoch', y = 'val_accuracy', data = history, label = 'Validation', ax = ax)\n",
    "    sns.lineplot(x = 'epoch', y = 'accuracy', data = history, label = 'Training', ax = ax)\n",
    "    ax.axhline(0.5, linestyle = '--',color='red', label = 'Chance')\n",
    "    ax.axvline(x = best_epoch, linestyle = '--', color = 'green', label = 'Best Epoch')  \n",
    "    ax.legend(loc = 7)    \n",
    "    ax.set_ylim([0.4, 1])\n",
    "\n",
    "    ax.set_xlabel(xlabel)\n",
    "    ax.set_ylabel('Accuracy (Fraction)')\n",
    "    \n",
    "    plt.show()"
   ]
  },
  {
   "cell_type": "code",
   "execution_count": null,
   "metadata": {
    "id": "MmZbrZoKnthN"
   },
   "outputs": [],
   "source": [
    "data, labels = load_data()"
   ]
  },
  {
   "cell_type": "code",
   "execution_count": null,
   "metadata": {
    "id": "csXB_FPMrx1D"
   },
   "outputs": [],
   "source": [
    "plot_one_image(data, labels, 0) "
   ]
  },
  {
   "cell_type": "code",
   "execution_count": null,
   "metadata": {
    "id": "CsRj6BAqs25Y"
   },
   "outputs": [],
   "source": [
    "plot_one_image(data, labels, 700) "
   ]
  },
  {
   "cell_type": "code",
   "execution_count": null,
   "metadata": {
    "id": "6LQXCiGmAmz-"
   },
   "outputs": [],
   "source": [
    "print (len(data))\n",
    "print(Counter(labels))"
   ]
  },
  {
   "cell_type": "code",
   "execution_count": null,
   "metadata": {
    "id": "8xRhIJXIBUPk"
   },
   "outputs": [],
   "source": [
    "for i in range(0, 5):\n",
    "  plot_one_image(data, labels, i)\n",
    "\n",
    "for i in range(700, 705):\n",
    "  plot_one_image(data, labels, i)"
   ]
  },
  {
   "cell_type": "code",
   "execution_count": null,
   "metadata": {
    "id": "DlgF6jWit9jz"
   },
   "outputs": [],
   "source": [
    "print('One image looks like: ')\n",
    "print(data[0])\n",
    "print(\"Length of list: \", len(data[0]))"
   ]
  },
  {
   "cell_type": "code",
   "execution_count": null,
   "metadata": {
    "cellView": "form",
    "id": "omWF2S8FUYUy"
   },
   "outputs": [],
   "source": [
    "img_height =  32\n",
    "img_width =  32\n",
    "color_channels =  3\n",
    "\n",
    "if img_height == 32 and img_width == 32 and color_channels == 3:\n",
    "  print(\"Correct!\")\n",
    "  print (\"Each image is\", img_height, 'x', img_width, 'pixels.')\n",
    "  print (\"Each pixel has\", color_channels, \"channels for red, green, blue.\")\n",
    "  print (\"This gives a total of\", img_height * img_width * color_channels, \"intensity values per image.\")\n",
    "else:\n",
    "  print(\"Those aren't quite the values.\")\n",
    "  print(\"Your values give a total of\", img_height * img_width * color_channels, \"intensity values per image.\") \n",
    "  print(\"Discuss with your group and try again!\")"
   ]
  },
  {
   "cell_type": "code",
   "execution_count": null,
   "metadata": {
    "id": "JZIiCuBrvS6z"
   },
   "outputs": [],
   "source": [
    "print ('Data shape:', data.shape)\n",
    "print ('Data:', data)"
   ]
  },
  {
   "cell_type": "code",
   "execution_count": null,
   "metadata": {
    "id": "fGWpMUUCwIgA"
   },
   "outputs": [],
   "source": [
    "X_train, X_test, y_train, y_test = model_selection.train_test_split(data, labels, test_size=0.2, random_state=1)"
   ]
  },
  {
   "cell_type": "code",
   "execution_count": null,
   "metadata": {
    "cellView": "form",
    "id": "qB2tDTHa61vv"
   },
   "outputs": [],
   "source": [
    "knn = KNeighborsClassifier(n_neighbors=5)\n",
    "\n",
    "knn.fit(X_train, y_train)"
   ]
  },
  {
   "cell_type": "code",
   "execution_count": null,
   "metadata": {
    "cellView": "form",
    "id": "TsmDEEfx7G72"
   },
   "outputs": [],
   "source": [
    "predictions = knn.predict(X_test)"
   ]
  },
  {
   "cell_type": "code",
   "execution_count": null,
   "metadata": {
    "cellView": "form",
    "id": "c9pWYKHXUzxv"
   },
   "outputs": [],
   "source": [
    "print(\"KNN Testing Set Accuracy:\")\n",
    "print(accuracy_score(y_test, predictions)*100)"
   ]
  },
  {
   "cell_type": "code",
   "execution_count": null,
   "metadata": {
    "id": "alVYKYzdyfhZ"
   },
   "outputs": [],
   "source": [
    "image_id = 210 \n",
    "\n",
    "plot_one_image(X_test, y_test, image_id)\n",
    "\n",
    "print('prediction:', knn.predict([X_test[image_id]])[0])"
   ]
  },
  {
   "cell_type": "code",
   "execution_count": null,
   "metadata": {
    "id": "oUtugsglYkSJ"
   },
   "outputs": [],
   "source": [
    "knn = KNeighborsClassifier(n_neighbors=3)\n",
    "\n",
    "knn.fit(X_train, y_train)\n",
    "\n",
    "predictions = knn.predict(X_test)\n",
    "\n",
    "knn_acc = accuracy_score(y_test, predictions)\n",
    "\n",
    "print(\"KNN Testing Set Accuracy:\")\n",
    "print(knn_acc*100)"
   ]
  },
  {
   "cell_type": "code",
   "execution_count": null,
   "metadata": {
    "id": "NgjefvviV3HN"
   },
   "outputs": [],
   "source": [
    "for i in np.arange(1,10,1):\n",
    "  \n",
    "  knn = KNeighborsClassifier(n_neighbors=int(i))\n",
    "\n",
    "  knn.fit(X_train, y_train)\n",
    "  \n",
    "  predictions = knn.predict(X_test)\n",
    "\n",
    "  print(\"KNN Testing Set Accuracy for %d neighbors:\"%i)\n",
    "  print(accuracy_score(y_test, predictions)*100)"
   ]
  },
  {
   "cell_type": "code",
   "execution_count": null,
   "metadata": {
    "id": "x4XblMWBzm96"
   },
   "outputs": [],
   "source": [
    "nnet = MLPClassifier(hidden_layer_sizes=(10, 5, 4), random_state=1, max_iter= 10000)  ## How many hidden layers? How many neurons does this have?\n",
    "nnet.fit(X_train, y_train)\n",
    "\n",
    "predictions = nnet.predict(X_test)\n",
    "\n",
    "print(\"MLP Testing Accuracy:\")\n",
    "print(accuracy_score(y_test, predictions)*100)"
   ]
  },
  {
   "cell_type": "code",
   "execution_count": null,
   "metadata": {
    "id": "EDtG4wESX263"
   },
   "outputs": [],
   "source": [
    "for layers in [(1), (1,1), (10), (10,5)]: \n",
    "\n",
    "  print('Layer parameters are ...')\n",
    "  print(layers)\n",
    "  nnet = MLPClassifier(hidden_layer_sizes=layers, random_state=1, max_iter=1000) \n",
    "  \n",
    "  nnet.fit(X_train, y_train)\n",
    "\n",
    "  predictions = nnet.predict(X_test)\n",
    "\n",
    "  print(\"MLP Testing Accuracy:\")\n",
    "  print(accuracy_score(y_test, predictions)*100)  "
   ]
  },
  {
   "cell_type": "code",
   "execution_count": null,
   "metadata": {
    "id": "nwFojkBG1Sxc"
   },
   "outputs": [],
   "source": [
    "X_train = X_train.astype(float)\n",
    "X_test = X_test.astype(float)\n",
    "\n",
    "cnn = CNNClassifier()\n",
    "cnn.fit(X_train, y_train)\n",
    "\n",
    "predictions = cnn.predict(X_test)\n",
    "\n",
    "print(\"CNN Testing Accuracy:\")\n",
    "print(accuracy_score(y_test, predictions)*100)"
   ]
  },
  {
   "cell_type": "code",
   "execution_count": null,
   "metadata": {
    "id": "XMsb61vccItm"
   },
   "outputs": [],
   "source": [
    "cnn = CNNClassifier(num_epochs=80)\n",
    "\n",
    "history = cnn.fit(X_train, categorical_to_numpy(y_train), validation_data=(X_test, categorical_to_numpy(y_test)))\n",
    "\n",
    "plot_acc(history)"
   ]
  }
 ],
 "metadata": {
  "accelerator": "GPU",
  "colab": {
   "collapsed_sections": [],
   "name": "Copy of Beginner_NeuralNetworks.ipynb",
   "provenance": []
  },
  "kernelspec": {
   "display_name": "Python 3 (ipykernel)",
   "language": "python",
   "name": "python3"
  },
  "language_info": {
   "codemirror_mode": {
    "name": "ipython",
    "version": 3
   },
   "file_extension": ".py",
   "mimetype": "text/x-python",
   "name": "python",
   "nbconvert_exporter": "python",
   "pygments_lexer": "ipython3",
   "version": "3.9.10"
  }
 },
 "nbformat": 4,
 "nbformat_minor": 1
}
